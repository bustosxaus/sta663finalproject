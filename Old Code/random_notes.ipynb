{
 "cells": [
  {
   "cell_type": "markdown",
   "metadata": {},
   "source": [
    "**BDA Chapter 10 Introduction to Bayesian computation**\n",
    "\n",
    "- Always use log densities (to prevent underflow and overflow)\n",
    "\n",
    "- 10.7 Debugging Bayesian computing (page 270)\n",
    "\n",
    "**BDA Chapter 11 Basics of Markov chain simulation**\n",
    "\n",
    "- Why does the Metropolis algorithm work?\n",
    "      \n",
    "  - The simulates sequence is a Markov chain with a unique stationary distribution\n",
    "\n",
    "  - The stationary distribution equals the target distribution\n",
    "\n",
    "- Warm-up instead of burn-in, discard the first half\n",
    "\n",
    "**BDA Chapter 12 Computationally efficient Markov chain simulation**\n",
    "\n",
    "- Hamiltonian Monte Carlo (HMC) borrows an idea from physics to suppress the local random walk behavior of the Metropolis algorithm\n",
    "\n",
    "- For each component $\\theta_j$ in the target space, it adds a momentum variable $\\phi_j$\n",
    "\n",
    "- Both variables, position and momentum, are then updated together\n",
    "\n",
    "- The posterios density $p(\\theta|y)$ is augmented by an independent distribution $p(\\phi)$, thus defining a joint distribution $p(\\theta,\\phi|y)=p(\\phi)p(\\theta|y)$\n",
    "\n",
    "- The simulation is from the joint, but only the simulations of $\\theta$ are of interest; $\\phi$ is an auxiliary variable introduced to enable the algorithm to move faster through the parameter space\n",
    "\n",
    "- The gradient of the log-posterior density is also required and it must be computed analytically\n",
    "\n",
    "- NUTS: In the no-U-turn sampler (NUTS), the number of steps is determined adaptively at each iteration. Instead of running for a fixed number of steps, L, the trajectory in each iteration continues until it turns around (more specifically, until we reach a negative value of the dot product between the momentum variable $\\phi$ and the distance traveled from the position $\\theta$ at the start of the iteration). This rule essentially sends the trajectory as far as it can go during that iteration. If such a rule is applied alone, the simulations will not converge to the desired target distribution. The full no-U-turn sampler is more complicated, going backward and forward along the trajectory in a way that satisfies detailed balance. Along with this algorithm comes a procedure for adaptively setting the mass matrix M and step size $\\varepsilon$; these parameters are tuned during the warm-up phase and then held fixed during the later iterations which are kept for the purpose of posterior inference.\n",
    "\n"
   ]
  },
  {
   "cell_type": "code",
   "execution_count": null,
   "metadata": {
    "collapsed": true
   },
   "outputs": [],
   "source": []
  }
 ],
 "metadata": {
  "kernelspec": {
   "display_name": "Python 3",
   "language": "python",
   "name": "python3"
  },
  "language_info": {
   "codemirror_mode": {
    "name": "ipython",
    "version": 3
   },
   "file_extension": ".py",
   "mimetype": "text/x-python",
   "name": "python",
   "nbconvert_exporter": "python",
   "pygments_lexer": "ipython3",
   "version": "3.5.1"
  }
 },
 "nbformat": 4,
 "nbformat_minor": 0
}
