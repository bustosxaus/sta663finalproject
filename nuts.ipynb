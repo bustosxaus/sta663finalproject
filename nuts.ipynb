{
 "cells": [
  {
   "cell_type": "code",
   "execution_count": null,
   "metadata": {
    "collapsed": false
   },
   "outputs": [],
   "source": []
  },
  {
   "cell_type": "code",
   "execution_count": null,
   "metadata": {
    "collapsed": true
   },
   "outputs": [],
   "source": [
    "# def func_gradient(func, theta_sym, values):\n",
    "#    grad = np.array([diff(L(*theta_sym), i) for i in theta_sym])\n",
    "#    substitutes = list(zip(theta_sym, values))\n",
    "#\n",
    "#    for i, element in enumerate(grad):\n",
    "#        for j in substitutes:\n",
    "#            grad[i] = grad[i].subs(*j)\n",
    "#    return grad  "
   ]
  },
  {
   "cell_type": "code",
   "execution_count": 6,
   "metadata": {
    "collapsed": false
   },
   "outputs": [],
   "source": [
    "def L(x,y):\n",
    "    return x**2*y**2 + y**2\n",
    "\n",
    "def L_gradient(x,y):\n",
    "    return np.array([2*x*y**2, 2*x**2 * y + 2*y])\n"
   ]
  },
  {
   "cell_type": "code",
   "execution_count": 46,
   "metadata": {
    "collapsed": false
   },
   "outputs": [],
   "source": [
    "# from Algorithm 1: HMC, page1353\n",
    "def Leapfrog(theta, r, eps):\n",
    "    r_tilde = r + (eps/2) * L_gradient(*theta)\n",
    "    theta_tilde = theta + eps * r_tilde\n",
    "    r_tide = r_tilde + (eps/2) * L_gradient(*theta_tilde)\n",
    "    return theta_tilde, r_tilde"
   ]
  },
  {
   "cell_type": "code",
   "execution_count": 47,
   "metadata": {
    "collapsed": false
   },
   "outputs": [
    {
     "data": {
      "text/plain": [
       "(array([ 0.77 ,  0.725]), array([ 0.54,  0.65]))"
      ]
     },
     "execution_count": 47,
     "metadata": {},
     "output_type": "execute_result"
    }
   ],
   "source": [
    "theta = np.array([0.5,0.4])\n",
    "r = np.array([0.5, 0.4])\n",
    "u = 0.5\n",
    "v = 0.5\n",
    "eps = 0.5\n",
    "Leapfrog(theta, r, eps)"
   ]
  },
  {
   "cell_type": "code",
   "execution_count": 17,
   "metadata": {
    "collapsed": false
   },
   "outputs": [],
   "source": [
    "# from Algorithm 3: Efficeint NUTS pg.1364\n",
    "def BuildTree(theta, r, u, v, j, eps):\n",
    "    if j == 0:\n",
    "        # base case, take one leapfrog step in the direction v\n",
    "        theta_prime, r_prime = Leapfrog(theta, r, v*eps)\n",
    "        \n",
    "        n_prime = int(u <= np.exp(L(*theta_prime) - 0.5 * np.dot(r_prime, r_prime)))\n",
    "        \n",
    "        s_prime = int(L(*theta_prime) - 0.5 * np.dot(r_prime, r_prime) > np.log(u) - 1000)\n",
    "        \n",
    "        return theta_prime, r_prime, theta_prime, r_prime, theta_prime, n_prime, s_prime\n",
    "    else:\n",
    "        # recursion, build left and right subtrees\n",
    "        theta_minus, r_minus, theta_plus, r_plus, n_prime, s_prime = BuildTree(theta, r, u, v, j-1, eps)\n",
    "        \n",
    "        if s_prime == 1:\n",
    "            if v == -1:\n",
    "                theta_minus, r_minus, _,_, theta_doub_prime, n_doub_prime, s_doub_prime = BuildTree(theta_minus, r_minus, u, v, j-1, eps)\n",
    "            else:\n",
    "                _,_, theta_plus, r_plus, theta_doub_prime, n_doub_prime, s_doub_prime = BuildTree(theta_plus, r_plus, u, v, j-1, eps)\n",
    "\n",
    "            # Use Metropolis-Hastings\n",
    "            prob = n_doub_prime / (n_prime + n_doub_prime)\n",
    "            if (np.random.uniform(0,1,1) < prob):\n",
    "                theta_prime = theta_doub_prime\n",
    "            \n",
    "            ind_1 = int(np.dot(theta_plus-theta_minus, r_minus) >= 0)\n",
    "            ind_2 = int(np.dot(theta_plus-theta_minus, r_plus) >= 0)\n",
    "            s_prime = s_doub_prime * ind_1 * ind_2\n",
    "            n_prime = n_prime + n_doub_prime\n",
    "        \n",
    "        return theta_minus, r_minus, theta_plus, r_plus, theta_prime, n_prime, s_prime"
   ]
  },
  {
   "cell_type": "code",
   "execution_count": null,
   "metadata": {
    "collapsed": false,
    "scrolled": false
   },
   "outputs": [],
   "source": []
  },
  {
   "cell_type": "code",
   "execution_count": null,
   "metadata": {
    "collapsed": true
   },
   "outputs": [],
   "source": [
    "def efficient_nuts(theta0, eps, L, M, L_gradient):\n",
    "    # put initial theta0 in first row of matrix\n",
    "    samples = np.array([theta0])\n",
    "    \n",
    "    for m in range(1, M+1):\n",
    "        # resample\n",
    "        norm_samp = np.random.multivariate_normal(np.repeat(0, len(theta0)), np.identity(len(theta0)), 1)\n",
    "        r0 = norm_samp.ravel()\n",
    "        upper = np.exp(L(*samples[m-1,:]) - 0.5*np.dot(r0, r0))\n",
    "        u = np.random.uniform(0, upper, 1)\n",
    "        \n",
    "        # initialize\n",
    "        theta_minus = samples[m-1,:]\n",
    "        theta_plus = samples[m-1,:]\n",
    "        r_minus = r0\n",
    "        r_plus = r0\n",
    "        j = 0\n",
    "        theta[m,:] = theta[m-1,:]\n",
    "        n = 1\n",
    "        s = 1\n",
    "        \n",
    "        while s == 1:\n",
    "            v_j = np.random.uniform(-1,1,1)\n",
    "            if v_j == -1:\n",
    "                theta_minus, r_minus, _,_, theta_minus, n_minus, s_prime = BuildTree(theta_minus, r_minus, u, v_j, j, eps)\n",
    "            else:\n",
    "                _,_, theta_plus, r_plus, theta_prime, n_prime, s_prime = BuildTree(theta_plus, r_plus, u, v_j, j, eps)\n",
    "            \n",
    "            if s_prime == 1:\n",
    "                  # Use Metropolis-Hastings\n",
    "                prob = min(1, n_prime/n)\n",
    "                if (np.random.uniform(0,1,1) < prob):\n",
    "                    theta[m,:] = theta_prime\n",
    "                    \n",
    "            n = n + n_prime\n",
    "\n",
    "            boolean_1 = int(np.dot(theta_plus-theta_minus, r_minus) >= 0)\n",
    "            boolean_2 = int(np.dot(theta_plus-theta_minus, r_plus) >= 0)\n",
    "            s = s_prime * boolean_1 * boolean_2\n",
    "            j = j + 1"
   ]
  },
  {
   "cell_type": "code",
   "execution_count": null,
   "metadata": {
    "collapsed": false
   },
   "outputs": [],
   "source": []
  },
  {
   "cell_type": "code",
   "execution_count": null,
   "metadata": {
    "collapsed": false
   },
   "outputs": [],
   "source": [
    "# simple example\n",
    "theta0 = \n",
    "eps = \n",
    "def L(x,y):\n",
    "\n",
    "def L_gradient(x,y):\n",
    "\n",
    "efficient_nuts(theta0, eps, L, M, L_gradient)\n"
   ]
  },
  {
   "cell_type": "code",
   "execution_count": null,
   "metadata": {
    "collapsed": true
   },
   "outputs": [],
   "source": [
    "# more complicated example"
   ]
  },
  {
   "cell_type": "code",
   "execution_count": null,
   "metadata": {
    "collapsed": true
   },
   "outputs": [],
   "source": [
    "# try to optimize code"
   ]
  },
  {
   "cell_type": "code",
   "execution_count": null,
   "metadata": {
    "collapsed": true
   },
   "outputs": [],
   "source": [
    "# comparison with STAN NUTS"
   ]
  },
  {
   "cell_type": "code",
   "execution_count": null,
   "metadata": {
    "collapsed": false
   },
   "outputs": [],
   "source": [
    "# comparison of NUTS, metropolis, and Gibbs (speed and plots)"
   ]
  },
  {
   "cell_type": "code",
   "execution_count": null,
   "metadata": {
    "collapsed": false
   },
   "outputs": [],
   "source": []
  },
  {
   "cell_type": "code",
   "execution_count": null,
   "metadata": {
    "collapsed": false
   },
   "outputs": [],
   "source": []
  },
  {
   "cell_type": "code",
   "execution_count": null,
   "metadata": {
    "collapsed": false
   },
   "outputs": [],
   "source": []
  },
  {
   "cell_type": "code",
   "execution_count": null,
   "metadata": {
    "collapsed": false
   },
   "outputs": [],
   "source": []
  },
  {
   "cell_type": "code",
   "execution_count": null,
   "metadata": {
    "collapsed": false
   },
   "outputs": [],
   "source": []
  },
  {
   "cell_type": "code",
   "execution_count": null,
   "metadata": {
    "collapsed": false
   },
   "outputs": [],
   "source": []
  },
  {
   "cell_type": "code",
   "execution_count": null,
   "metadata": {
    "collapsed": true
   },
   "outputs": [],
   "source": []
  }
 ],
 "metadata": {
  "kernelspec": {
   "display_name": "Python 3",
   "language": "python",
   "name": "python3"
  },
  "language_info": {
   "codemirror_mode": {
    "name": "ipython",
    "version": 3
   },
   "file_extension": ".py",
   "mimetype": "text/x-python",
   "name": "python",
   "nbconvert_exporter": "python",
   "pygments_lexer": "ipython3",
   "version": "3.5.1"
  }
 },
 "nbformat": 4,
 "nbformat_minor": 0
}
