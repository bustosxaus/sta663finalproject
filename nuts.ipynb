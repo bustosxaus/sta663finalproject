{
 "cells": [
  {
   "cell_type": "code",
   "execution_count": null,
   "metadata": {
    "collapsed": false
   },
   "outputs": [],
   "source": []
  },
  {
   "cell_type": "code",
   "execution_count": null,
   "metadata": {
    "collapsed": true
   },
   "outputs": [],
   "source": [
    "#def func_gradient(func, theta_sym, values):\n",
    "#    grad = np.array([diff(L(*theta_sym), i) for i in theta_sym])\n",
    "#    substitutes = list(zip(theta_sym, values))\n",
    "#\n",
    "#    for i, element in enumerate(grad):\n",
    "#        for j in substitutes:\n",
    "#            grad[i] = grad[i].subs(*j)\n",
    "#    return grad  "
   ]
  },
  {
   "cell_type": "code",
   "execution_count": 6,
   "metadata": {
    "collapsed": false
   },
   "outputs": [],
   "source": [
    "def L(x,y):\n",
    "    return x**2*y**2 + y**2\n",
    "\n",
    "def L_gradient(x,y):\n",
    "    return np.array([2*x*y**2, 2*x**2 * y + 2*y])\n"
   ]
  },
  {
   "cell_type": "code",
   "execution_count": 7,
   "metadata": {
    "collapsed": false
   },
   "outputs": [],
   "source": [
    "# from Algorithm 1: HMC, page1353\n",
    "def Leapfrog(theta, r, eps, L, L_gradient):\n",
    "    r_tilde = r + (eps/2) * L_gradient(*theta)\n",
    "    theta_tilde = theta + eps * r_tilde\n",
    "    r_tide = r_tilde + (eps/2) * L_gradient(*theta_tilde)\n",
    "    return theta_tilde, r_tilde"
   ]
  },
  {
   "cell_type": "code",
   "execution_count": 8,
   "metadata": {
    "collapsed": false
   },
   "outputs": [
    {
     "data": {
      "text/plain": [
       "(array([ 0.77 ,  0.725]), array([ 0.54,  0.65]))"
      ]
     },
     "execution_count": 8,
     "metadata": {},
     "output_type": "execute_result"
    }
   ],
   "source": [
    "theta = [0.5,0.4]\n",
    "r = [0.5, 0.4]\n",
    "u = 0.5\n",
    "v = 0.5\n",
    "Leapfrog(theta, r, u, v, L_gradient)"
   ]
  },
  {
   "cell_type": "code",
   "execution_count": 17,
   "metadata": {
    "collapsed": false
   },
   "outputs": [],
   "source": [
    "def BuildTree(theta, r, u, v, j, eps):\n",
    "    if j == 0:\n",
    "        # base case, take one leapfrog step in the direction v\n",
    "        theta_prime, r_prime = Leapfrog(theta, r, v*eps, L, L_gradient)\n",
    "        \n",
    "        if u <= np.exp(L(*theta_prime) - 0.5 * np.dot(r_prime, r_prime)):\n",
    "            C_prime = np.append(theta_prime, r_prime)\n",
    "        else:\n",
    "            C_prime = np.empty(shape=(0, 0))\n",
    "        \n",
    "        s_prime = int(L(*theta_prime) - 0.5 * np.dot(r_prime, r_prime) > np.log(u) - 1000)\n",
    "        \n",
    "        return theta_prime, r_prime, theta_prime, r_prime, C_prime, s_prime\n",
    "    else:\n",
    "        # recursion, build left and right subtrees\n",
    "        theta_minus, r_minus, theta_plus, r_plus, C_prime, s_prime = BuildTree(theta, r, u, v, j-1, eps)\n",
    "        \n",
    "        if v == -1:\n",
    "            theta_minus, r_minus, _,_, C_doub_prime, s_doub_prime = BuildTree(theta_minus, r_minus, u, v, j-1, eps)\n",
    "        else:\n",
    "            _,_, theta_plus, r_plus, C_doub_prime, s_doub_prime = BuildTree(theta_plus, r_plus, u, v, j-1, eps)\n",
    "            \n",
    "        ind_1 = int(np.dot(theta_plus-theta_minus, r_minus) >= 0)\n",
    "        ind_2 = int(np.dot(theta_plus-theta_minus, r_plus) >= 0)\n",
    "        s_prime = s_prime * s_doub_prime * ind_1 * ind_2\n",
    "        C_prime = np.append(C_prime, C_doub_prime)\n",
    "        \n",
    "        return theta_minus, r_minus, theta_plus, r_plus, C_prime, s_prime"
   ]
  },
  {
   "cell_type": "code",
   "execution_count": 25,
   "metadata": {
    "collapsed": false,
    "scrolled": false
   },
   "outputs": [
    {
     "data": {
      "text/plain": [
       "(array([ 2.25 ,  4.525]),\n",
       " array([ 0.7 ,  1.65]),\n",
       " array([ 291.93847656,  180.10507813]),\n",
       " array([ 115.87539063,   70.23203125]),\n",
       " array([   2.25      ,    4.525     ,    0.7       ,    1.65      ,\n",
       "         291.93847656,  180.10507813,  115.87539063,   70.23203125]),\n",
       " 1)"
      ]
     },
     "execution_count": 25,
     "metadata": {},
     "output_type": "execute_result"
    }
   ],
   "source": [
    "BuildTree(theta, r, 0.5, 5, 1, 0.5)"
   ]
  },
  {
   "cell_type": "code",
   "execution_count": null,
   "metadata": {
    "collapsed": true
   },
   "outputs": [],
   "source": [
    "naive_nuts(theta0, eps, L, M"
   ]
  },
  {
   "cell_type": "code",
   "execution_count": null,
   "metadata": {
    "collapsed": false
   },
   "outputs": [],
   "source": [
    "one = np.array([1,2])\n",
    "two = np.array([3,4])\n",
    "values"
   ]
  },
  {
   "cell_type": "code",
   "execution_count": null,
   "metadata": {
    "collapsed": false
   },
   "outputs": [],
   "source": [
    "np.append(one,two)"
   ]
  },
  {
   "cell_type": "code",
   "execution_count": null,
   "metadata": {
    "collapsed": false
   },
   "outputs": [],
   "source": [
    "esto = 2 > 3\n",
    "1 * esto"
   ]
  },
  {
   "cell_type": "code",
   "execution_count": null,
   "metadata": {
    "collapsed": false
   },
   "outputs": [],
   "source": [
    "int(esto)"
   ]
  },
  {
   "cell_type": "code",
   "execution_count": null,
   "metadata": {
    "collapsed": false
   },
   "outputs": [],
   "source": [
    "2 * 3"
   ]
  },
  {
   "cell_type": "code",
   "execution_count": null,
   "metadata": {
    "collapsed": false
   },
   "outputs": [],
   "source": []
  },
  {
   "cell_type": "code",
   "execution_count": null,
   "metadata": {
    "collapsed": true
   },
   "outputs": [],
   "source": []
  }
 ],
 "metadata": {
  "kernelspec": {
   "display_name": "Python 3",
   "language": "python",
   "name": "python3"
  },
  "language_info": {
   "codemirror_mode": {
    "name": "ipython",
    "version": 3
   },
   "file_extension": ".py",
   "mimetype": "text/x-python",
   "name": "python",
   "nbconvert_exporter": "python",
   "pygments_lexer": "ipython3",
   "version": "3.5.1"
  }
 },
 "nbformat": 4,
 "nbformat_minor": 0
}
